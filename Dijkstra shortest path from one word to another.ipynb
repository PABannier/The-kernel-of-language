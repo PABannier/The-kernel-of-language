{
 "cells": [
  {
   "cell_type": "code",
   "execution_count": 1,
   "metadata": {},
   "outputs": [],
   "source": [
    "import networkx as nx\n",
    "import numpy as np\n",
    "import joblib\n",
    "import h5py\n",
    "\n",
    "import matplotlib.pyplot as plt\n",
    "from matplotlib import pylab\n",
    "\n",
    "from src.interact_with_matrices import find_degree_for_word, open_object\n",
    "from src.matrix_reduce import reduce_dimension_adjacency_matrix\n",
    "\n",
    "from itertools import islice\n",
    "import operator"
   ]
  },
  {
   "cell_type": "markdown",
   "metadata": {},
   "source": [
    "# Loading data"
   ]
  },
  {
   "cell_type": "code",
   "execution_count": 2,
   "metadata": {},
   "outputs": [],
   "source": [
    "degree_matrix = open_object('data/degree_matrix.hdf5')\n",
    "adjacency_matrix = open_object('data/adjacency_matrix.hdf5')"
   ]
  },
  {
   "cell_type": "code",
   "execution_count": 3,
   "metadata": {},
   "outputs": [],
   "source": [
    "with open('data/keys.pkl', 'rb') as infile:\n",
    "    keys = joblib.load(infile)"
   ]
  },
  {
   "cell_type": "code",
   "execution_count": 4,
   "metadata": {},
   "outputs": [],
   "source": [
    "G = nx.from_numpy_matrix(adjacency_matrix)"
   ]
  },
  {
   "cell_type": "markdown",
   "metadata": {},
   "source": [
    "# Dijkstra algorithm"
   ]
  },
  {
   "cell_type": "code",
   "execution_count": 11,
   "metadata": {},
   "outputs": [],
   "source": [
    "def find_shortest_path(source_word, target_word):\n",
    "    try:\n",
    "        source = keys.index(source_word)\n",
    "        target = keys.index(target_word)\n",
    "    except:\n",
    "        print('The source of target word is not in the dictionary')\n",
    "    \n",
    "    path = nx.dijkstra_path(G, source, target)\n",
    "    \n",
    "    print('Path length:', len(path)-1)\n",
    "    print([keys[i] for i in path])"
   ]
  },
  {
   "cell_type": "code",
   "execution_count": 12,
   "metadata": {},
   "outputs": [
    {
     "name": "stdout",
     "output_type": "stream",
     "text": [
      "Path length: 2\n",
      "['life', 'end', 'system']\n"
     ]
    }
   ],
   "source": [
    "find_shortest_path('life', 'system')"
   ]
  }
 ],
 "metadata": {
  "kernelspec": {
   "display_name": "Python 3",
   "language": "python",
   "name": "python3"
  },
  "language_info": {
   "codemirror_mode": {
    "name": "ipython",
    "version": 3
   },
   "file_extension": ".py",
   "mimetype": "text/x-python",
   "name": "python",
   "nbconvert_exporter": "python",
   "pygments_lexer": "ipython3",
   "version": "3.6.4"
  }
 },
 "nbformat": 4,
 "nbformat_minor": 2
}
