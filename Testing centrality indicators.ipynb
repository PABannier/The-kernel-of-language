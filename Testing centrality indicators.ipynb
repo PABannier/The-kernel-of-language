{
 "cells": [
  {
   "cell_type": "code",
   "execution_count": 17,
   "metadata": {},
   "outputs": [],
   "source": [
    "import networkx as nx\n",
    "import numpy as np\n",
    "import joblib\n",
    "import h5py\n",
    "\n",
    "import matplotlib.pyplot as plt\n",
    "from matplotlib import pylab\n",
    "\n",
    "from src.interact_with_matrices import find_degree_for_word, open_object\n",
    "from src.matrix_reduce import reduce_dimension_adjacency_matrix\n",
    "\n",
    "from itertools import islice\n",
    "import operator"
   ]
  },
  {
   "cell_type": "markdown",
   "metadata": {},
   "source": [
    "# Utils"
   ]
  },
  {
   "cell_type": "code",
   "execution_count": 18,
   "metadata": {},
   "outputs": [],
   "source": [
    "def take(n, iterable):\n",
    "    return list(islice(iterable, n))"
   ]
  },
  {
   "cell_type": "markdown",
   "metadata": {},
   "source": [
    "# Loading data"
   ]
  },
  {
   "cell_type": "code",
   "execution_count": 19,
   "metadata": {},
   "outputs": [],
   "source": [
    "degree_matrix = open_object('data/degree_matrix.hdf5')\n",
    "adjacency_matrix = open_object('data/adjacency_matrix.hdf5')"
   ]
  },
  {
   "cell_type": "code",
   "execution_count": 20,
   "metadata": {},
   "outputs": [],
   "source": [
    "with open('data/keys.pkl', 'rb') as infile:\n",
    "    keys = joblib.load(infile)"
   ]
  },
  {
   "cell_type": "code",
   "execution_count": 21,
   "metadata": {},
   "outputs": [
    {
     "data": {
      "text/plain": [
       "'\\nadjacency_matrix, degree_matrix, keys = reduce_dimension_adjacency_matrix(\\n    adjacency_matrix,\\n    degree_matrix,\\n    keys, \\n    threshold=20\\n)\\n'"
      ]
     },
     "execution_count": 21,
     "metadata": {},
     "output_type": "execute_result"
    }
   ],
   "source": [
    "# Reducing the adjacency and degree matrices\n",
    "\n",
    "\"\"\"\n",
    "adjacency_matrix, degree_matrix, keys = reduce_dimension_adjacency_matrix(\n",
    "    adjacency_matrix,\n",
    "    degree_matrix,\n",
    "    keys, \n",
    "    threshold=20\n",
    ")\n",
    "\"\"\""
   ]
  },
  {
   "cell_type": "code",
   "execution_count": 22,
   "metadata": {},
   "outputs": [],
   "source": [
    "G = nx.from_numpy_matrix(adjacency_matrix)"
   ]
  },
  {
   "cell_type": "markdown",
   "metadata": {},
   "source": [
    "# Centrality indicators"
   ]
  },
  {
   "cell_type": "code",
   "execution_count": 23,
   "metadata": {},
   "outputs": [],
   "source": [
    "def print_k_best_closeness_centrality(G,\n",
    "                                      keys,\n",
    "                                      k=20):\n",
    "        \n",
    "    closeness_centrality = nx.closeness_centrality(G)\n",
    "    k_best = dict(\n",
    "        sorted(\n",
    "            closeness_centrality.items(), \n",
    "            key=operator.itemgetter(1),\n",
    "            reverse=True\n",
    "        )\n",
    "    )\n",
    "    \n",
    "    return take(k, k_best.items())"
   ]
  },
  {
   "cell_type": "code",
   "execution_count": 24,
   "metadata": {},
   "outputs": [],
   "source": [
    "def print_k_best_betweenness_centrality(G,\n",
    "                                        keys,\n",
    "                                        k=20):\n",
    "    \n",
    "    betweenness_centrality = nx.betweenness_centrality(G)\n",
    "    k_best = dict(\n",
    "        sorted(\n",
    "            betweenness_centrality.items(),\n",
    "            key=operator.itemgetter(1),\n",
    "            reverse=True\n",
    "        )\n",
    "    )\n",
    "    \n",
    "    return take(k, k_best.items())"
   ]
  },
  {
   "cell_type": "code",
   "execution_count": 25,
   "metadata": {},
   "outputs": [],
   "source": [
    "def print_k_best_eigenvector_centrality(G,\n",
    "                                        keys,\n",
    "                                        k=20):\n",
    "    \n",
    "    eigenvector_centrality = nx.eigenvector_centrality(G)\n",
    "    k_best = dict(\n",
    "        sorted(\n",
    "            eigenvector_centrality.items(),\n",
    "            key=operator.itemgetter(1),\n",
    "            reverse=True\n",
    "        )\n",
    "    )\n",
    "    \n",
    "    return take(k, k_best.items())"
   ]
  },
  {
   "cell_type": "code",
   "execution_count": 26,
   "metadata": {},
   "outputs": [
    {
     "name": "stdout",
     "output_type": "stream",
     "text": [
      "(n, 0.5470173755920197)\n",
      "(p, 0.44839420874436065)\n",
      "(v, 0.4433897356017553)\n",
      "(see, 0.42814271193706077)\n",
      "(form, 0.4192546559161498)\n",
      "(anything, 0.4100030424470604)\n",
      "(state, 0.40803600305157817)\n",
      "(containing, 0.40529732258274415)\n",
      "(letter, 0.40418506085410344)\n",
      "(related, 0.4020858176295316)\n",
      "(english, 0.40187174292295386)\n",
      "(part, 0.40152435728175445)\n",
      "(causing, 0.398161994537802)\n",
      "(person, 0.3980045352728912)\n",
      "(body, 0.3968014725430612)\n",
      "(power, 0.3951396943567796)\n",
      "(used, 0.394159582843362)\n",
      "(character, 0.3938767731498471)\n",
      "(manner, 0.3935943689975431)\n",
      "(end, 0.3926474289069709)\n"
     ]
    }
   ],
   "source": [
    "close_cent_nodes = print_k_best_closeness_centrality(\n",
    "    G,\n",
    "    keys,\n",
    "    k=20\n",
    ")\n",
    "\n",
    "for k, v in close_cent_nodes:\n",
    "    print(f'({keys[k]}, {v})')"
   ]
  },
  {
   "cell_type": "code",
   "execution_count": 27,
   "metadata": {},
   "outputs": [
    {
     "name": "stdout",
     "output_type": "stream",
     "text": [
      "(n, 0.4469560240882281)\n",
      "(p, 0.16171930574967508)\n",
      "(v, 0.11177089694052826)\n",
      "(act, 0.03508281739800355)\n",
      "(see, 0.03018025077134157)\n",
      "(state, 0.01976216903880438)\n",
      "(manner, 0.017470388635059505)\n",
      "(used, 0.015319738272230527)\n",
      "(alt, 0.011388456486478672)\n",
      "(person, 0.010443728896795349)\n",
      "(part, 0.010386266003625385)\n",
      "(body, 0.009688271079798605)\n",
      "(place, 0.009579428846419717)\n",
      "(anything, 0.00854725770098287)\n",
      "(form, 0.00846051310237848)\n",
      "(also, 0.008306346572046725)\n",
      "(power, 0.007077232129002096)\n",
      "(especially, 0.006702493591832771)\n",
      "(time, 0.006021392439364339)\n",
      "(hence, 0.005545552686699481)\n"
     ]
    }
   ],
   "source": [
    "between_cent_nodes = print_k_best_betweenness_centrality(\n",
    "    G,\n",
    "    keys,\n",
    "    k=20\n",
    ")\n",
    "\n",
    "for k, v in between_cent_nodes:\n",
    "    print(f'({keys[k]}, {v})')"
   ]
  },
  {
   "cell_type": "code",
   "execution_count": 28,
   "metadata": {},
   "outputs": [
    {
     "name": "stdout",
     "output_type": "stream",
     "text": [
      "(n, 0.6289562071552716)\n",
      "(p, 0.18732729509249527)\n",
      "(state, 0.06446402009869591)\n",
      "(v, 0.06159723517257305)\n",
      "(act, 0.058099085074507964)\n",
      "(see, 0.05564488527419995)\n",
      "(anything, 0.04820806583066752)\n",
      "(used, 0.04668566752855766)\n",
      "(part, 0.046255163734152685)\n",
      "(person, 0.0459451278063671)\n",
      "(body, 0.04232165000766931)\n",
      "(also, 0.03990977039380512)\n",
      "(form, 0.03776278561572398)\n",
      "(especially, 0.034455654082746874)\n",
      "(thing, 0.03425462590914799)\n",
      "(place, 0.03080390431477959)\n",
      "(substance, 0.030444475656371005)\n",
      "(power, 0.03029032713400835)\n",
      "(end, 0.03026241886037142)\n",
      "(something, 0.029835947492966263)\n"
     ]
    }
   ],
   "source": [
    "eigenvec_cent_nodes = print_k_best_eigenvector_centrality(\n",
    "    G,\n",
    "    keys,\n",
    "    k=20\n",
    ")\n",
    "\n",
    "for k, v in eigenvec_cent_nodes:\n",
    "    print(f'({keys[k]}, {v})')"
   ]
  },
  {
   "cell_type": "markdown",
   "metadata": {},
   "source": [
    "# Combining the centrality indicators"
   ]
  },
  {
   "cell_type": "code",
   "execution_count": 30,
   "metadata": {},
   "outputs": [
    {
     "name": "stdout",
     "output_type": "stream",
     "text": [
      "['body', 'p', 'state', 'form', 'person', 'anything', 'used', 'part', 'power', 'see', 'v', 'n']\n"
     ]
    }
   ],
   "source": [
    "# Doing a mere intersection\n",
    "\n",
    "a = set([x[0] for x in close_cent_nodes])\n",
    "b = set([x[0] for x in between_cent_nodes])\n",
    "c = set([x[0] for x in eigenvec_cent_nodes])\n",
    "\n",
    "d = a.intersection(b.intersection(c))\n",
    "\n",
    "print([keys[i] for i in d])"
   ]
  },
  {
   "cell_type": "code",
   "execution_count": null,
   "metadata": {},
   "outputs": [],
   "source": []
  }
 ],
 "metadata": {
  "kernelspec": {
   "display_name": "Python 3",
   "language": "python",
   "name": "python3"
  },
  "language_info": {
   "codemirror_mode": {
    "name": "ipython",
    "version": 3
   },
   "file_extension": ".py",
   "mimetype": "text/x-python",
   "name": "python",
   "nbconvert_exporter": "python",
   "pygments_lexer": "ipython3",
   "version": "3.6.4"
  }
 },
 "nbformat": 4,
 "nbformat_minor": 2
}
