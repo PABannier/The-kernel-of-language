{
 "cells": [
  {
   "cell_type": "code",
   "execution_count": 1,
   "metadata": {},
   "outputs": [],
   "source": [
    "import networkx as nx\n",
    "import numpy as np\n",
    "import joblib\n",
    "import h5py\n",
    "\n",
    "import matplotlib.pyplot as plt\n",
    "from matplotlib import pylab\n",
    "\n",
    "from src.interact_with_matrices import find_degree_for_word, open_object\n",
    "from src.matrix_reduce import reduce_dimension_adjacency_matrix\n",
    "\n",
    "from itertools import islice\n",
    "import operator"
   ]
  },
  {
   "cell_type": "markdown",
   "metadata": {},
   "source": [
    "# Utils"
   ]
  },
  {
   "cell_type": "code",
   "execution_count": 2,
   "metadata": {},
   "outputs": [],
   "source": [
    "def take(n, iterable):\n",
    "    return list(islice(iterable, n))"
   ]
  },
  {
   "cell_type": "markdown",
   "metadata": {},
   "source": [
    "# Loading data"
   ]
  },
  {
   "cell_type": "code",
   "execution_count": 3,
   "metadata": {},
   "outputs": [],
   "source": [
    "degree_matrix = open_object('data/degree_matrix.hdf5')\n",
    "adjacency_matrix = open_object('data/adjacency_matrix.hdf5')"
   ]
  },
  {
   "cell_type": "code",
   "execution_count": 4,
   "metadata": {},
   "outputs": [],
   "source": [
    "with open('data/keys.pkl', 'rb') as infile:\n",
    "    keys = joblib.load(infile)"
   ]
  },
  {
   "cell_type": "code",
   "execution_count": 5,
   "metadata": {},
   "outputs": [
    {
     "data": {
      "text/plain": [
       "'\\nadjacency_matrix, degree_matrix, keys = reduce_dimension_adjacency_matrix(\\n    adjacency_matrix,\\n    degree_matrix,\\n    keys, \\n    threshold=20\\n)\\n'"
      ]
     },
     "execution_count": 5,
     "metadata": {},
     "output_type": "execute_result"
    }
   ],
   "source": [
    "# Reducing the adjacency and degree matrices\n",
    "\n",
    "\"\"\"\n",
    "adjacency_matrix, degree_matrix, keys = reduce_dimension_adjacency_matrix(\n",
    "    adjacency_matrix,\n",
    "    degree_matrix,\n",
    "    keys, \n",
    "    threshold=20\n",
    ")\n",
    "\"\"\""
   ]
  },
  {
   "cell_type": "code",
   "execution_count": 6,
   "metadata": {},
   "outputs": [],
   "source": [
    "G = nx.from_numpy_matrix(adjacency_matrix, create_using=nx.MultiDiGraph())"
   ]
  },
  {
   "cell_type": "markdown",
   "metadata": {},
   "source": [
    "# Centrality indicators"
   ]
  },
  {
   "cell_type": "code",
   "execution_count": 7,
   "metadata": {},
   "outputs": [],
   "source": [
    "def print_k_best_closeness_centrality(G,\n",
    "                                      keys,\n",
    "                                      k=20):\n",
    "        \n",
    "    closeness_centrality = nx.closeness_centrality(G)\n",
    "    k_best = dict(\n",
    "        sorted(\n",
    "            closeness_centrality.items(), \n",
    "            key=operator.itemgetter(1),\n",
    "            reverse=True\n",
    "        )\n",
    "    )\n",
    "    \n",
    "    return take(k, k_best.items())"
   ]
  },
  {
   "cell_type": "code",
   "execution_count": 8,
   "metadata": {},
   "outputs": [],
   "source": [
    "def print_k_best_betweenness_centrality(G,\n",
    "                                        keys,\n",
    "                                        k=20):\n",
    "    \n",
    "    betweenness_centrality = nx.betweenness_centrality(G)\n",
    "    k_best = dict(\n",
    "        sorted(\n",
    "            betweenness_centrality.items(),\n",
    "            key=operator.itemgetter(1),\n",
    "            reverse=True\n",
    "        )\n",
    "    )\n",
    "    \n",
    "    return take(k, k_best.items())"
   ]
  },
  {
   "cell_type": "code",
   "execution_count": 9,
   "metadata": {},
   "outputs": [],
   "source": [
    "def print_k_best_eigenvector_centrality(G,\n",
    "                                        keys,\n",
    "                                        k=20):\n",
    "    \n",
    "    eigenvector_centrality = nx.eigenvector_centrality(G)\n",
    "    k_best = dict(\n",
    "        sorted(\n",
    "            eigenvector_centrality.items(),\n",
    "            key=operator.itemgetter(1),\n",
    "            reverse=True\n",
    "        )\n",
    "    )\n",
    "    \n",
    "    return take(k, k_best.items())"
   ]
  },
  {
   "cell_type": "code",
   "execution_count": 10,
   "metadata": {},
   "outputs": [
    {
     "name": "stdout",
     "output_type": "stream",
     "text": [
      "(act, 0.33)\n",
      "(anything, 0.31)\n",
      "(state, 0.31)\n",
      "(thing, 0.31)\n",
      "(part, 0.30)\n",
      "(use, 0.30)\n",
      "(place, 0.29)\n",
      "(power, 0.29)\n",
      "(body, 0.29)\n",
      "(object, 0.29)\n",
      "(make, 0.29)\n",
      "(person, 0.28)\n",
      "(cause, 0.27)\n",
      "(kind, 0.27)\n",
      "(something, 0.27)\n",
      "(portion, 0.27)\n",
      "(man, 0.27)\n",
      "(give, 0.27)\n",
      "(form, 0.27)\n",
      "(animal, 0.27)\n",
      "(separate, 0.27)\n",
      "(see, 0.27)\n",
      "(condition, 0.26)\n",
      "(effect, 0.26)\n",
      "(whole, 0.26)\n",
      "(go, 0.26)\n",
      "(purpose, 0.26)\n",
      "(end, 0.26)\n",
      "(one, 0.26)\n",
      "(time, 0.26)\n",
      "(exist, 0.26)\n",
      "(quality, 0.26)\n",
      "(hence, 0.26)\n",
      "(general, 0.26)\n",
      "(set, 0.26)\n",
      "(material, 0.26)\n",
      "(character, 0.26)\n",
      "(house, 0.25)\n",
      "(fact, 0.25)\n",
      "(action, 0.25)\n"
     ]
    }
   ],
   "source": [
    "close_cent_nodes = print_k_best_closeness_centrality(\n",
    "    G,\n",
    "    keys,\n",
    "    k=40\n",
    ")\n",
    "\n",
    "for k, v in close_cent_nodes:\n",
    "    print(f'({keys[k]}, {v:.2f})')"
   ]
  },
  {
   "cell_type": "code",
   "execution_count": 11,
   "metadata": {},
   "outputs": [
    {
     "name": "stdout",
     "output_type": "stream",
     "text": [
      "(act, 0.02)\n",
      "(use, 0.02)\n",
      "(part, 0.02)\n",
      "(do, 0.01)\n",
      "(animal, 0.01)\n",
      "(machine, 0.01)\n",
      "(place, 0.01)\n",
      "(system, 0.01)\n",
      "(person, 0.01)\n",
      "(good, 0.01)\n",
      "(see, 0.01)\n",
      "(body, 0.01)\n",
      "(give, 0.01)\n",
      "(authority, 0.01)\n",
      "(whole, 0.01)\n",
      "(purpose, 0.01)\n",
      "(condition, 0.01)\n",
      "(make, 0.01)\n",
      "(mind, 0.01)\n",
      "(large, 0.01)\n",
      "(open, 0.01)\n",
      "(manner, 0.01)\n",
      "(end, 0.01)\n",
      "(natural, 0.01)\n",
      "(state, 0.01)\n",
      "(alt, 0.01)\n",
      "(time, 0.01)\n",
      "(wheel, 0.01)\n",
      "(substance, 0.01)\n",
      "(horse, 0.01)\n",
      "(piece, 0.01)\n",
      "(physical, 0.01)\n",
      "(life, 0.01)\n",
      "(quality, 0.01)\n",
      "(money, 0.01)\n",
      "(anything, 0.01)\n",
      "(growth, 0.01)\n",
      "(equal, 0.00)\n",
      "(control, 0.00)\n",
      "(house, 0.00)\n"
     ]
    }
   ],
   "source": [
    "between_cent_nodes = print_k_best_betweenness_centrality(\n",
    "    G,\n",
    "    keys,\n",
    "    k=40\n",
    ")\n",
    "\n",
    "for k, v in between_cent_nodes:\n",
    "    print(f'({keys[k]}, {v:.2f})')"
   ]
  },
  {
   "cell_type": "code",
   "execution_count": 12,
   "metadata": {},
   "outputs": [
    {
     "ename": "NetworkXNotImplemented",
     "evalue": "not implemented for multigraph type",
     "output_type": "error",
     "traceback": [
      "\u001b[0;31m---------------------------------------------------------------------------\u001b[0m",
      "\u001b[0;31mNetworkXNotImplemented\u001b[0m                    Traceback (most recent call last)",
      "\u001b[0;32m<ipython-input-12-1912620b214a>\u001b[0m in \u001b[0;36m<module>\u001b[0;34m()\u001b[0m\n\u001b[1;32m      2\u001b[0m     \u001b[0mG\u001b[0m\u001b[0;34m,\u001b[0m\u001b[0;34m\u001b[0m\u001b[0m\n\u001b[1;32m      3\u001b[0m     \u001b[0mkeys\u001b[0m\u001b[0;34m,\u001b[0m\u001b[0;34m\u001b[0m\u001b[0m\n\u001b[0;32m----> 4\u001b[0;31m     \u001b[0mk\u001b[0m\u001b[0;34m=\u001b[0m\u001b[0;36m40\u001b[0m\u001b[0;34m\u001b[0m\u001b[0m\n\u001b[0m\u001b[1;32m      5\u001b[0m )\n\u001b[1;32m      6\u001b[0m \u001b[0;34m\u001b[0m\u001b[0m\n",
      "\u001b[0;32m<ipython-input-9-fe8178e8e3cb>\u001b[0m in \u001b[0;36mprint_k_best_eigenvector_centrality\u001b[0;34m(G, keys, k)\u001b[0m\n\u001b[1;32m      3\u001b[0m                                         k=20):\n\u001b[1;32m      4\u001b[0m \u001b[0;34m\u001b[0m\u001b[0m\n\u001b[0;32m----> 5\u001b[0;31m     \u001b[0meigenvector_centrality\u001b[0m \u001b[0;34m=\u001b[0m \u001b[0mnx\u001b[0m\u001b[0;34m.\u001b[0m\u001b[0meigenvector_centrality\u001b[0m\u001b[0;34m(\u001b[0m\u001b[0mG\u001b[0m\u001b[0;34m)\u001b[0m\u001b[0;34m\u001b[0m\u001b[0m\n\u001b[0m\u001b[1;32m      6\u001b[0m     k_best = dict(\n\u001b[1;32m      7\u001b[0m         sorted(\n",
      "\u001b[0;32m<decorator-gen-262>\u001b[0m in \u001b[0;36meigenvector_centrality\u001b[0;34m(G, max_iter, tol, nstart, weight)\u001b[0m\n",
      "\u001b[0;32m/Library/Frameworks/Python.framework/Versions/3.6/lib/python3.6/site-packages/networkx/utils/decorators.py\u001b[0m in \u001b[0;36m_not_implemented_for\u001b[0;34m(not_implement_for_func, *args, **kwargs)\u001b[0m\n\u001b[1;32m     78\u001b[0m         \u001b[0;32mif\u001b[0m \u001b[0mmatch\u001b[0m\u001b[0;34m:\u001b[0m\u001b[0;34m\u001b[0m\u001b[0m\n\u001b[1;32m     79\u001b[0m             \u001b[0mmsg\u001b[0m \u001b[0;34m=\u001b[0m \u001b[0;34m'not implemented for %s type'\u001b[0m \u001b[0;34m%\u001b[0m \u001b[0;34m' '\u001b[0m\u001b[0;34m.\u001b[0m\u001b[0mjoin\u001b[0m\u001b[0;34m(\u001b[0m\u001b[0mgraph_types\u001b[0m\u001b[0;34m)\u001b[0m\u001b[0;34m\u001b[0m\u001b[0m\n\u001b[0;32m---> 80\u001b[0;31m             \u001b[0;32mraise\u001b[0m \u001b[0mnx\u001b[0m\u001b[0;34m.\u001b[0m\u001b[0mNetworkXNotImplemented\u001b[0m\u001b[0;34m(\u001b[0m\u001b[0mmsg\u001b[0m\u001b[0;34m)\u001b[0m\u001b[0;34m\u001b[0m\u001b[0m\n\u001b[0m\u001b[1;32m     81\u001b[0m         \u001b[0;32melse\u001b[0m\u001b[0;34m:\u001b[0m\u001b[0;34m\u001b[0m\u001b[0m\n\u001b[1;32m     82\u001b[0m             \u001b[0;32mreturn\u001b[0m \u001b[0mnot_implement_for_func\u001b[0m\u001b[0;34m(\u001b[0m\u001b[0;34m*\u001b[0m\u001b[0margs\u001b[0m\u001b[0;34m,\u001b[0m \u001b[0;34m**\u001b[0m\u001b[0mkwargs\u001b[0m\u001b[0;34m)\u001b[0m\u001b[0;34m\u001b[0m\u001b[0m\n",
      "\u001b[0;31mNetworkXNotImplemented\u001b[0m: not implemented for multigraph type"
     ]
    }
   ],
   "source": [
    "eigenvec_cent_nodes = print_k_best_eigenvector_centrality(\n",
    "    G,\n",
    "    keys,\n",
    "    k=40\n",
    ")\n",
    "\n",
    "for k, v in eigenvec_cent_nodes:\n",
    "    print(f'({keys[k]}, {v:.2f})')"
   ]
  },
  {
   "cell_type": "markdown",
   "metadata": {},
   "source": [
    "# Combining the centrality indicators"
   ]
  },
  {
   "cell_type": "code",
   "execution_count": 13,
   "metadata": {},
   "outputs": [
    {
     "name": "stdout",
     "output_type": "stream",
     "text": [
      "['consist', 'something', 'life', 'purpose', 'make', 'cause', 'see', 'anything', 'object', 'manner', 'body', 'end', 'person', 'thing', 'act', 'action', 'authority', 'form', 'substance', 'use', 'part', 'power', 'state', 'give', 'place', 'time', 'animal']\n"
     ]
    }
   ],
   "source": [
    "# Doing a mere intersection\n",
    "\n",
    "a = set([x[0] for x in close_cent_nodes])\n",
    "b = set([x[0] for x in between_cent_nodes])\n",
    "c = set([x[0] for x in eigenvec_cent_nodes])\n",
    "\n",
    "d = a.intersection(b.intersection(c))\n",
    "\n",
    "print([keys[i] for i in d])"
   ]
  },
  {
   "cell_type": "code",
   "execution_count": null,
   "metadata": {},
   "outputs": [],
   "source": []
  }
 ],
 "metadata": {
  "kernelspec": {
   "display_name": "Python 3",
   "language": "python",
   "name": "python3"
  },
  "language_info": {
   "codemirror_mode": {
    "name": "ipython",
    "version": 3
   },
   "file_extension": ".py",
   "mimetype": "text/x-python",
   "name": "python",
   "nbconvert_exporter": "python",
   "pygments_lexer": "ipython3",
   "version": "3.6.4"
  }
 },
 "nbformat": 4,
 "nbformat_minor": 2
}
