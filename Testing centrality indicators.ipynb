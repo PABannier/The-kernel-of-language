{
 "cells": [
  {
   "cell_type": "code",
   "execution_count": null,
   "metadata": {},
   "outputs": [],
   "source": [
    "import networkx as nx\n",
    "import numpy as np\n",
    "import joblib\n",
    "import h5py\n",
    "\n",
    "import matplotlib.pyplot as plt\n",
    "from matplotlib import pylab\n",
    "\n",
    "from src.interact_with_matrices import find_degree_for_word, open_object\n",
    "from src.matrix_reduce import reduce_dimension_adjacency_matrix\n",
    "\n",
    "from itertools import islice\n",
    "import operator"
   ]
  },
  {
   "cell_type": "markdown",
   "metadata": {},
   "source": [
    "# Utils"
   ]
  },
  {
   "cell_type": "code",
   "execution_count": null,
   "metadata": {},
   "outputs": [],
   "source": [
    "def take(n, iterable):\n",
    "    return list(islice(iterable, n))"
   ]
  },
  {
   "cell_type": "markdown",
   "metadata": {},
   "source": [
    "# Loading data"
   ]
  },
  {
   "cell_type": "code",
   "execution_count": null,
   "metadata": {},
   "outputs": [],
   "source": [
    "degree_matrix = open_object('data/degree_matrix.hdf5')\n",
    "adjacency_matrix = open_object('data/adjacency_matrix.hdf5')"
   ]
  },
  {
   "cell_type": "code",
   "execution_count": null,
   "metadata": {},
   "outputs": [],
   "source": [
    "with open('data/keys.pkl', 'rb') as infile:\n",
    "    keys = joblib.load(infile)"
   ]
  },
  {
   "cell_type": "code",
   "execution_count": null,
   "metadata": {},
   "outputs": [],
   "source": [
    "# Reducing the adjacency and degree matrices\n",
    "\n",
    "\"\"\"\n",
    "adjacency_matrix, degree_matrix, keys = reduce_dimension_adjacency_matrix(\n",
    "    adjacency_matrix,\n",
    "    degree_matrix,\n",
    "    keys, \n",
    "    threshold=20\n",
    ")\n",
    "\"\"\""
   ]
  },
  {
   "cell_type": "code",
   "execution_count": null,
   "metadata": {},
   "outputs": [],
   "source": [
    "G = nx.from_numpy_matrix(adjacency_matrix)"
   ]
  },
  {
   "cell_type": "markdown",
   "metadata": {},
   "source": [
    "# Centrality indicators"
   ]
  },
  {
   "cell_type": "code",
   "execution_count": null,
   "metadata": {},
   "outputs": [],
   "source": [
    "def print_k_best_closeness_centrality(G,\n",
    "                                      keys,\n",
    "                                      k=20):\n",
    "        \n",
    "    closeness_centrality = nx.closeness_centrality(G)\n",
    "    k_best = dict(\n",
    "        sorted(\n",
    "            closeness_centrality.items(), \n",
    "            key=operator.itemgetter(1),\n",
    "            reverse=True\n",
    "        )\n",
    "    )\n",
    "    \n",
    "    return take(k, k_best.items())"
   ]
  },
  {
   "cell_type": "code",
   "execution_count": null,
   "metadata": {},
   "outputs": [],
   "source": [
    "def print_k_best_betweenness_centrality(G,\n",
    "                                        keys,\n",
    "                                        k=20):\n",
    "    \n",
    "    betweenness_centrality = nx.betweenness_centrality(G)\n",
    "    k_best = dict(\n",
    "        sorted(\n",
    "            betweenness_centrality.items(),\n",
    "            key=operator.itemgetter(1),\n",
    "            reverse=True\n",
    "        )\n",
    "    )\n",
    "    \n",
    "    return take(k, k_best.items())"
   ]
  },
  {
   "cell_type": "code",
   "execution_count": null,
   "metadata": {},
   "outputs": [],
   "source": [
    "def print_k_best_eigenvector_centrality(G,\n",
    "                                        keys,\n",
    "                                        k=20):\n",
    "    \n",
    "    eigenvector_centrality = nx.eigenvector_centrality(G)\n",
    "    k_best = dict(\n",
    "        sorted(\n",
    "            eigenvector_centrality.items(),\n",
    "            key=operator.itemgetter(1),\n",
    "            reverse=True\n",
    "        )\n",
    "    )\n",
    "    \n",
    "    return take(k, k_best.items())"
   ]
  },
  {
   "cell_type": "code",
   "execution_count": null,
   "metadata": {},
   "outputs": [],
   "source": [
    "close_cent_nodes = print_k_best_closeness_centrality(\n",
    "    G,\n",
    "    keys,\n",
    "    k=40\n",
    ")\n",
    "\n",
    "for k, v in close_cent_nodes:\n",
    "    print(f'({keys[k]}, {v:.2f})')"
   ]
  },
  {
   "cell_type": "code",
   "execution_count": null,
   "metadata": {},
   "outputs": [],
   "source": [
    "between_cent_nodes = print_k_best_betweenness_centrality(\n",
    "    G,\n",
    "    keys,\n",
    "    k=40\n",
    ")\n",
    "\n",
    "for k, v in between_cent_nodes:\n",
    "    print(f'({keys[k]}, {v:.2f})')"
   ]
  },
  {
   "cell_type": "code",
   "execution_count": null,
   "metadata": {},
   "outputs": [],
   "source": [
    "eigenvec_cent_nodes = print_k_best_eigenvector_centrality(\n",
    "    G,\n",
    "    keys,\n",
    "    k=40\n",
    ")\n",
    "\n",
    "for k, v in eigenvec_cent_nodes:\n",
    "    print(f'({keys[k]}, {v:.2f})')"
   ]
  },
  {
   "cell_type": "markdown",
   "metadata": {},
   "source": [
    "# Combining the centrality indicators"
   ]
  },
  {
   "cell_type": "code",
   "execution_count": null,
   "metadata": {},
   "outputs": [],
   "source": [
    "# Doing a mere intersection\n",
    "\n",
    "a = set([x[0] for x in close_cent_nodes])\n",
    "b = set([x[0] for x in between_cent_nodes])\n",
    "c = set([x[0] for x in eigenvec_cent_nodes])\n",
    "\n",
    "d = a.intersection(b.intersection(c))\n",
    "\n",
    "print([keys[i] for i in d])"
   ]
  },
  {
   "cell_type": "code",
   "execution_count": null,
   "metadata": {},
   "outputs": [],
   "source": []
  }
 ],
 "metadata": {
  "kernelspec": {
   "display_name": "Python 3",
   "language": "python",
   "name": "python3"
  },
  "language_info": {
   "codemirror_mode": {
    "name": "ipython",
    "version": 3
   },
   "file_extension": ".py",
   "mimetype": "text/x-python",
   "name": "python",
   "nbconvert_exporter": "python",
   "pygments_lexer": "ipython3",
   "version": "3.6.4"
  }
 },
 "nbformat": 4,
 "nbformat_minor": 2
}
