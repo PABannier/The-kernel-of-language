{
 "cells": [
  {
   "cell_type": "code",
   "execution_count": 1,
   "metadata": {},
   "outputs": [],
   "source": [
    "import networkx as nx\n",
    "import numpy as np\n",
    "import joblib\n",
    "import h5py\n",
    "\n",
    "import matplotlib.pyplot as plt\n",
    "from matplotlib import pylab\n",
    "\n",
    "from src.interact_with_matrices import find_degree_for_word, open_object\n",
    "from src.matrix_reduce import reduce_dimension_adjacency_matrix\n",
    "\n",
    "from itertools import islice\n",
    "import operator"
   ]
  },
  {
   "cell_type": "markdown",
   "metadata": {},
   "source": [
    "# Utils"
   ]
  },
  {
   "cell_type": "code",
   "execution_count": 2,
   "metadata": {},
   "outputs": [],
   "source": [
    "def take(n, iterable):\n",
    "    return list(islice(iterable, n))"
   ]
  },
  {
   "cell_type": "markdown",
   "metadata": {},
   "source": [
    "# Loading data"
   ]
  },
  {
   "cell_type": "code",
   "execution_count": 3,
   "metadata": {},
   "outputs": [],
   "source": [
    "degree_matrix = open_object('data/degree_matrix.hdf5')\n",
    "adjacency_matrix = open_object('data/adjacency_matrix.hdf5')"
   ]
  },
  {
   "cell_type": "code",
   "execution_count": 4,
   "metadata": {},
   "outputs": [],
   "source": [
    "with open('data/keys.pkl', 'rb') as infile:\n",
    "    keys = joblib.load(infile)"
   ]
  },
  {
   "cell_type": "code",
   "execution_count": 5,
   "metadata": {},
   "outputs": [
    {
     "data": {
      "text/plain": [
       "'\\nadjacency_matrix, degree_matrix, keys = reduce_dimension_adjacency_matrix(\\n    adjacency_matrix,\\n    degree_matrix,\\n    keys, \\n    threshold=20\\n)\\n'"
      ]
     },
     "execution_count": 5,
     "metadata": {},
     "output_type": "execute_result"
    }
   ],
   "source": [
    "# Reducing the adjacency and degree matrices\n",
    "\n",
    "\"\"\"\n",
    "adjacency_matrix, degree_matrix, keys = reduce_dimension_adjacency_matrix(\n",
    "    adjacency_matrix,\n",
    "    degree_matrix,\n",
    "    keys, \n",
    "    threshold=20\n",
    ")\n",
    "\"\"\""
   ]
  },
  {
   "cell_type": "code",
   "execution_count": 6,
   "metadata": {},
   "outputs": [],
   "source": [
    "G = nx.from_numpy_matrix(adjacency_matrix)"
   ]
  },
  {
   "cell_type": "markdown",
   "metadata": {},
   "source": [
    "# Centrality indicators"
   ]
  },
  {
   "cell_type": "code",
   "execution_count": 7,
   "metadata": {},
   "outputs": [],
   "source": [
    "def print_k_best_closeness_centrality(G,\n",
    "                                      keys,\n",
    "                                      k=20):\n",
    "        \n",
    "    closeness_centrality = nx.closeness_centrality(G)\n",
    "    k_best = dict(\n",
    "        sorted(\n",
    "            closeness_centrality.items(), \n",
    "            key=operator.itemgetter(1),\n",
    "            reverse=True\n",
    "        )\n",
    "    )\n",
    "    \n",
    "    return take(k, k_best.items())"
   ]
  },
  {
   "cell_type": "code",
   "execution_count": 8,
   "metadata": {},
   "outputs": [],
   "source": [
    "def print_k_best_betweenness_centrality(G,\n",
    "                                        keys,\n",
    "                                        k=20):\n",
    "    \n",
    "    betweenness_centrality = nx.betweenness_centrality(G)\n",
    "    k_best = dict(\n",
    "        sorted(\n",
    "            betweenness_centrality.items(),\n",
    "            key=operator.itemgetter(1),\n",
    "            reverse=True\n",
    "        )\n",
    "    )\n",
    "    \n",
    "    return take(k, k_best.items())"
   ]
  },
  {
   "cell_type": "code",
   "execution_count": 9,
   "metadata": {},
   "outputs": [],
   "source": [
    "def print_k_best_eigenvector_centrality(G,\n",
    "                                        keys,\n",
    "                                        k=20):\n",
    "    \n",
    "    eigenvector_centrality = nx.eigenvector_centrality(G)\n",
    "    k_best = dict(\n",
    "        sorted(\n",
    "            eigenvector_centrality.items(),\n",
    "            key=operator.itemgetter(1),\n",
    "            reverse=True\n",
    "        )\n",
    "    )\n",
    "    \n",
    "    return take(k, k_best.items())"
   ]
  },
  {
   "cell_type": "code",
   "execution_count": 10,
   "metadata": {},
   "outputs": [
    {
     "name": "stdout",
     "output_type": "stream",
     "text": [
      "(act, 0.37)\n",
      "(use, 0.37)\n",
      "(anything, 0.36)\n",
      "(state, 0.36)\n",
      "(part, 0.36)\n",
      "(person, 0.35)\n",
      "(place, 0.35)\n",
      "(thing, 0.35)\n",
      "(body, 0.35)\n",
      "(make, 0.34)\n",
      "(see, 0.34)\n",
      "(power, 0.34)\n",
      "(action, 0.34)\n",
      "(form, 0.34)\n",
      "(end, 0.34)\n",
      "(purpose, 0.33)\n",
      "(from, 0.33)\n",
      "(animal, 0.33)\n",
      "(cause, 0.33)\n",
      "(something, 0.33)\n",
      "(life, 0.33)\n",
      "(give, 0.33)\n",
      "(house, 0.33)\n",
      "(motion, 0.33)\n",
      "(object, 0.33)\n",
      "(system, 0.33)\n",
      "(substance, 0.33)\n",
      "(kind, 0.33)\n",
      "(statute, 0.33)\n",
      "(hence, 0.33)\n",
      "(time, 0.32)\n",
      "(physical, 0.32)\n",
      "(machine, 0.32)\n",
      "(composition, 0.32)\n",
      "(natural, 0.32)\n",
      "(consist, 0.32)\n",
      "(authority, 0.32)\n",
      "(man, 0.32)\n",
      "(passage, 0.32)\n",
      "(manner, 0.32)\n"
     ]
    }
   ],
   "source": [
    "close_cent_nodes = print_k_best_closeness_centrality(\n",
    "    G,\n",
    "    keys,\n",
    "    k=40\n",
    ")\n",
    "\n",
    "for k, v in close_cent_nodes:\n",
    "    print(f'({keys[k]}, {v:.2f})')"
   ]
  },
  {
   "cell_type": "code",
   "execution_count": 11,
   "metadata": {},
   "outputs": [
    {
     "name": "stdout",
     "output_type": "stream",
     "text": [
      "(act, 0.08)\n",
      "(use, 0.05)\n",
      "(see, 0.05)\n",
      "(state, 0.04)\n",
      "(part, 0.04)\n",
      "(person, 0.03)\n",
      "(place, 0.03)\n",
      "(make, 0.03)\n",
      "(anything, 0.03)\n",
      "(body, 0.02)\n",
      "(thing, 0.02)\n",
      "(manner, 0.02)\n",
      "(alt, 0.02)\n",
      "(form, 0.02)\n",
      "(time, 0.01)\n",
      "(give, 0.01)\n",
      "(animal, 0.01)\n",
      "(power, 0.01)\n",
      "(hence, 0.01)\n",
      "(end, 0.01)\n",
      "(small, 0.01)\n",
      "(something, 0.01)\n",
      "(house, 0.01)\n",
      "(cause, 0.01)\n",
      "(purpose, 0.01)\n",
      "(quality, 0.01)\n",
      "(kind, 0.01)\n",
      "(man, 0.01)\n",
      "(good, 0.01)\n",
      "(action, 0.01)\n",
      "(life, 0.01)\n",
      "(consist, 0.01)\n",
      "(name, 0.01)\n",
      "(word, 0.01)\n",
      "(large, 0.01)\n",
      "(substance, 0.01)\n",
      "(sense, 0.01)\n",
      "(object, 0.01)\n",
      "(authority, 0.01)\n",
      "(order, 0.01)\n"
     ]
    }
   ],
   "source": [
    "between_cent_nodes = print_k_best_betweenness_centrality(\n",
    "    G,\n",
    "    keys,\n",
    "    k=40\n",
    ")\n",
    "\n",
    "for k, v in between_cent_nodes:\n",
    "    print(f'({keys[k]}, {v:.2f})')"
   ]
  },
  {
   "cell_type": "code",
   "execution_count": 12,
   "metadata": {},
   "outputs": [
    {
     "name": "stdout",
     "output_type": "stream",
     "text": [
      "(act, 0.35)\n",
      "(state, 0.23)\n",
      "(use, 0.16)\n",
      "(part, 0.12)\n",
      "(anything, 0.12)\n",
      "(person, 0.12)\n",
      "(body, 0.12)\n",
      "(thing, 0.11)\n",
      "(place, 0.10)\n",
      "(power, 0.09)\n",
      "(make, 0.08)\n",
      "(form, 0.08)\n",
      "(action, 0.07)\n",
      "(process, 0.07)\n",
      "(give, 0.07)\n",
      "(quality, 0.07)\n",
      "(condition, 0.06)\n",
      "(law, 0.06)\n",
      "(motion, 0.06)\n",
      "(animal, 0.06)\n",
      "(authority, 0.06)\n",
      "(cause, 0.06)\n",
      "(purpose, 0.06)\n",
      "(see, 0.06)\n",
      "(substance, 0.05)\n",
      "(end, 0.05)\n",
      "(life, 0.05)\n",
      "(time, 0.05)\n",
      "(object, 0.05)\n",
      "(system, 0.05)\n",
      "(change, 0.05)\n",
      "(manner, 0.05)\n",
      "(knowledge, 0.05)\n",
      "(something, 0.05)\n",
      "(from, 0.05)\n",
      "(machine, 0.05)\n",
      "(physical, 0.05)\n",
      "(mind, 0.05)\n",
      "(consist, 0.04)\n",
      "(strength, 0.04)\n"
     ]
    }
   ],
   "source": [
    "eigenvec_cent_nodes = print_k_best_eigenvector_centrality(\n",
    "    G,\n",
    "    keys,\n",
    "    k=40\n",
    ")\n",
    "\n",
    "for k, v in eigenvec_cent_nodes:\n",
    "    print(f'({keys[k]}, {v:.2f})')"
   ]
  },
  {
   "cell_type": "markdown",
   "metadata": {},
   "source": [
    "# Combining the centrality indicators"
   ]
  },
  {
   "cell_type": "code",
   "execution_count": 13,
   "metadata": {},
   "outputs": [
    {
     "name": "stdout",
     "output_type": "stream",
     "text": [
      "['consist', 'something', 'life', 'purpose', 'make', 'cause', 'see', 'anything', 'object', 'manner', 'body', 'end', 'person', 'thing', 'act', 'action', 'authority', 'form', 'substance', 'use', 'part', 'power', 'state', 'give', 'place', 'time', 'animal']\n"
     ]
    }
   ],
   "source": [
    "# Doing a mere intersection\n",
    "\n",
    "a = set([x[0] for x in close_cent_nodes])\n",
    "b = set([x[0] for x in between_cent_nodes])\n",
    "c = set([x[0] for x in eigenvec_cent_nodes])\n",
    "\n",
    "d = a.intersection(b.intersection(c))\n",
    "\n",
    "print([keys[i] for i in d])"
   ]
  },
  {
   "cell_type": "code",
   "execution_count": null,
   "metadata": {},
   "outputs": [],
   "source": []
  }
 ],
 "metadata": {
  "kernelspec": {
   "display_name": "Python 3",
   "language": "python",
   "name": "python3"
  },
  "language_info": {
   "codemirror_mode": {
    "name": "ipython",
    "version": 3
   },
   "file_extension": ".py",
   "mimetype": "text/x-python",
   "name": "python",
   "nbconvert_exporter": "python",
   "pygments_lexer": "ipython3",
   "version": "3.6.4"
  }
 },
 "nbformat": 4,
 "nbformat_minor": 2
}
