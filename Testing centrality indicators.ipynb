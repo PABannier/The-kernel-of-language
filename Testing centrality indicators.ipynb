{
 "cells": [
  {
   "cell_type": "code",
   "execution_count": 45,
   "metadata": {},
   "outputs": [],
   "source": [
    "import networkx as nx\n",
    "import numpy as np\n",
    "import joblib\n",
    "import h5py\n",
    "\n",
    "import matplotlib.pyplot as plt\n",
    "from matplotlib import pylab\n",
    "\n",
    "from src.interact_with_matrices import find_degree_for_word, open_object\n",
    "from src.matrix_reduce import reduce_dimension_adjacency_matrix\n",
    "\n",
    "from itertools import islice\n",
    "import operator"
   ]
  },
  {
   "cell_type": "markdown",
   "metadata": {},
   "source": [
    "# Utils"
   ]
  },
  {
   "cell_type": "code",
   "execution_count": 46,
   "metadata": {},
   "outputs": [],
   "source": [
    "def take(n, iterable):\n",
    "    return list(islice(iterable, n))"
   ]
  },
  {
   "cell_type": "markdown",
   "metadata": {},
   "source": [
    "# Loading data"
   ]
  },
  {
   "cell_type": "code",
   "execution_count": 47,
   "metadata": {},
   "outputs": [],
   "source": [
    "degree_matrix = open_object('data/degree_matrix.hdf5')\n",
    "adjacency_matrix = open_object('data/adjacency_matrix.hdf5')"
   ]
  },
  {
   "cell_type": "code",
   "execution_count": 48,
   "metadata": {},
   "outputs": [],
   "source": [
    "with open('data/keys.pkl', 'rb') as infile:\n",
    "    keys = joblib.load(infile)"
   ]
  },
  {
   "cell_type": "code",
   "execution_count": 49,
   "metadata": {},
   "outputs": [],
   "source": [
    "# Reducing the adjacency and degree matrices\n",
    "\n",
    "adjacency_matrix, degree_matrix, keys = reduce_dimension_adjacency_matrix(\n",
    "    adjacency_matrix,\n",
    "    degree_matrix,\n",
    "    keys, \n",
    "    threshold=20\n",
    ")"
   ]
  },
  {
   "cell_type": "code",
   "execution_count": 50,
   "metadata": {},
   "outputs": [],
   "source": [
    "G = nx.from_numpy_matrix(adjacency_matrix)"
   ]
  },
  {
   "cell_type": "markdown",
   "metadata": {},
   "source": [
    "# Centrality indicators"
   ]
  },
  {
   "cell_type": "code",
   "execution_count": 15,
   "metadata": {},
   "outputs": [],
   "source": [
    "def print_k_best_closeness_centrality(G,\n",
    "                                      keys,\n",
    "                                      k=20):\n",
    "        \n",
    "    closeness_centrality = nx.closeness_centrality(G)\n",
    "    k_best = dict(\n",
    "        sorted(\n",
    "            closeness_centrality.items(), \n",
    "            key=operator.itemgetter(1),\n",
    "            reverse=True\n",
    "        )\n",
    "    )\n",
    "    \n",
    "    return take(k, k_best.items())"
   ]
  },
  {
   "cell_type": "code",
   "execution_count": 25,
   "metadata": {},
   "outputs": [],
   "source": [
    "def print_k_best_betweenness_centrality(G,\n",
    "                                        keys,\n",
    "                                        k=20):\n",
    "    \n",
    "    betweenness_centrality = nx.betweenness_centrality(G)\n",
    "    k_best = dict(\n",
    "        sorted(\n",
    "            betweenness_centrality.items(),\n",
    "            key=operator.itemgetter(1),\n",
    "            reverse=True\n",
    "        )\n",
    "    )\n",
    "    \n",
    "    return take(k, k_best.items())"
   ]
  },
  {
   "cell_type": "code",
   "execution_count": 26,
   "metadata": {},
   "outputs": [],
   "source": [
    "def print_k_best_eigenvector_centrality(G,\n",
    "                                        keys,\n",
    "                                        k=20):\n",
    "    \n",
    "    eigenvector_centrality = nx.eigenvector_centrality(G)\n",
    "    k_best = dict(\n",
    "        sorted(\n",
    "            eigenvector_centrality.items(),\n",
    "            key=operator.itemgetter(1),\n",
    "            reverse=True\n",
    "        )\n",
    "    )\n",
    "    \n",
    "    return take(k, k_best.items())"
   ]
  },
  {
   "cell_type": "code",
   "execution_count": 29,
   "metadata": {},
   "outputs": [
    {
     "name": "stdout",
     "output_type": "stream",
     "text": [
      "(176, 0.584870848708487)\n",
      "(10, 0.46824224519940916)\n",
      "(299, 0.4574314574314574)\n",
      "(23, 0.4502840909090909)\n",
      "(201, 0.44647887323943664)\n",
      "(76, 0.44089012517385257)\n",
      "(199, 0.4366391184573003)\n",
      "(271, 0.4360385144429161)\n",
      "(96, 0.4348422496570645)\n",
      "(247, 0.43424657534246575)\n",
      "(129, 0.4324693042291951)\n",
      "(287, 0.4318801089918256)\n",
      "(4, 0.42953929539295393)\n",
      "(53, 0.4249329758713137)\n",
      "(121, 0.4249329758713137)\n",
      "(316, 0.4249329758713137)\n",
      "(278, 0.42379679144385024)\n",
      "(283, 0.42379679144385024)\n",
      "(147, 0.4204244031830239)\n",
      "(9, 0.4198675496688742)\n"
     ]
    }
   ],
   "source": [
    "close_cent_nodes = print_k_best_closeness_centrality(\n",
    "    G,\n",
    "    keys,\n",
    "    k=20\n",
    ")\n",
    "\n",
    "for k, v in close_cent_nodes:\n",
    "    print(f'({k}, {v})')"
   ]
  },
  {
   "cell_type": "code",
   "execution_count": 30,
   "metadata": {},
   "outputs": [
    {
     "name": "stdout",
     "output_type": "stream",
     "text": [
      "(176, 0.38883204130611837)\n",
      "(299, 0.0882971637840703)\n",
      "(199, 0.08430351507241142)\n",
      "(10, 0.038395317382919826)\n",
      "(2, 0.030042601590659114)\n",
      "(23, 0.029507060233284352)\n",
      "(201, 0.02934940756678783)\n",
      "(76, 0.02514412921452543)\n",
      "(271, 0.02275671317492574)\n",
      "(278, 0.01786401888073828)\n",
      "(160, 0.017241648598005112)\n",
      "(297, 0.016831261769043017)\n",
      "(129, 0.016399495007260245)\n",
      "(316, 0.015736464340184338)\n",
      "(121, 0.0155637854514391)\n",
      "(4, 0.015251712874460598)\n",
      "(161, 0.015170642069287327)\n",
      "(206, 0.014430435136124542)\n",
      "(209, 0.013821878498383715)\n",
      "(283, 0.013755783871937046)\n"
     ]
    }
   ],
   "source": [
    "between_cent_nodes = print_k_best_betweenness_centrality(\n",
    "    G,\n",
    "    keys,\n",
    "    k=20\n",
    ")\n",
    "\n",
    "for k, v in between_cent_nodes:\n",
    "    print(f'({k}, {v})')"
   ]
  },
  {
   "cell_type": "code",
   "execution_count": 31,
   "metadata": {},
   "outputs": [
    {
     "name": "stdout",
     "output_type": "stream",
     "text": [
      "(176, 0.511774587695703)\n",
      "(10, 0.16557993159249368)\n",
      "(199, 0.14766693334015732)\n",
      "(299, 0.14148444039039879)\n",
      "(201, 0.128584901721062)\n",
      "(23, 0.12402405902657021)\n",
      "(271, 0.12048305522505039)\n",
      "(76, 0.1129770337124415)\n",
      "(4, 0.10798059583010292)\n",
      "(287, 0.10226664454878999)\n",
      "(2, 0.09850237924510949)\n",
      "(9, 0.09542842213115661)\n",
      "(96, 0.09492990274437757)\n",
      "(283, 0.09453385732407907)\n",
      "(247, 0.09443559619264895)\n",
      "(161, 0.09357816989766249)\n",
      "(206, 0.09275015183981494)\n",
      "(316, 0.09153638774554693)\n",
      "(215, 0.09094001303238099)\n",
      "(121, 0.08937839065976765)\n"
     ]
    }
   ],
   "source": [
    "eigenvec_cent_nodes = print_k_best_eigenvector_centrality(\n",
    "    G,\n",
    "    keys,\n",
    "    k=20\n",
    ")\n",
    "\n",
    "for k, v in eigenvec_cent_nodes:\n",
    "    print(f'({k}, {v})')"
   ]
  },
  {
   "cell_type": "markdown",
   "metadata": {},
   "source": [
    "# Combining the centrality indicators"
   ]
  },
  {
   "cell_type": "code",
   "execution_count": 32,
   "metadata": {},
   "outputs": [
    {
     "name": "stdout",
     "output_type": "stream",
     "text": [
      "{4, 199, 201, 10, 299, 76, 271, 176, 23, 121, 283, 316}\n"
     ]
    }
   ],
   "source": [
    "# Doing a mere intersection\n",
    "\n",
    "a = set([x[0] for x in close_cent_nodes])\n",
    "b = set([x[0] for x in between_cent_nodes])\n",
    "c = set([x[0] for x in eigenvec_cent_nodes])\n",
    "\n",
    "d = a.intersection(b.intersection(c))\n",
    "\n",
    "print(d)"
   ]
  },
  {
   "cell_type": "code",
   "execution_count": null,
   "metadata": {},
   "outputs": [],
   "source": [
    "# Doing an average of all the indicators and ranking the keys"
   ]
  },
  {
   "cell_type": "code",
   "execution_count": null,
   "metadata": {},
   "outputs": [],
   "source": []
  },
  {
   "cell_type": "code",
   "execution_count": null,
   "metadata": {},
   "outputs": [],
   "source": []
  },
  {
   "cell_type": "code",
   "execution_count": null,
   "metadata": {},
   "outputs": [],
   "source": []
  },
  {
   "cell_type": "code",
   "execution_count": null,
   "metadata": {},
   "outputs": [],
   "source": []
  }
 ],
 "metadata": {
  "kernelspec": {
   "display_name": "Python 3",
   "language": "python",
   "name": "python3"
  },
  "language_info": {
   "codemirror_mode": {
    "name": "ipython",
    "version": 3
   },
   "file_extension": ".py",
   "mimetype": "text/x-python",
   "name": "python",
   "nbconvert_exporter": "python",
   "pygments_lexer": "ipython3",
   "version": "3.6.4"
  }
 },
 "nbformat": 4,
 "nbformat_minor": 2
}
